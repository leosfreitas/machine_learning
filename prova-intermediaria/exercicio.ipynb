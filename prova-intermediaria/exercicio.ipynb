{
 "cells": [
  {
   "cell_type": "code",
   "execution_count": null,
   "metadata": {},
   "outputs": [],
   "source": [
    "# identificar outliers com svd:\n",
    "\n",
    "import numpy as np\n",
    "import pandas as pd\n",
    "import matplotlib.pyplot as plt\n",
    "from sklearn.decomposition import TruncatedSVD\n",
    "from sklearn.preprocessing import StandardScaler\n",
    "from sklearn.datasets import load_iris\n",
    "\n",
    "# 1. Carregar o conjunto de dados Iris\n",
    "iris = load_iris()\n",
    "df = pd.DataFrame(data=iris.data, columns=iris.feature_names)\n",
    "\n",
    "# 2. Padronizar os dados\n",
    "scaler = StandardScaler()\n",
    "X_scaled = scaler.fit_transform(df)\n",
    "\n",
    "# 3. Aplicar SVD\n",
    "svd = TruncatedSVD(n_components=2)  # Reduzimos para 2 componentes principais (TruncatedSVD é mais eficiente pois ele já seleciona os componentes principais)\n",
    "X_svd = svd.fit_transform(X_scaled) # X_svd contém os dados transformados\n",
    "\n",
    "# 4. Análise dos valores singulares\n",
    "singular_values = svd.singular_values_\n",
    "\n",
    "# 5. Visualizar os dados transformados\n",
    "plt.scatter(X_svd[:, 0], X_svd[:, 1])\n",
    "plt.title('Dados projetados com SVD')\n",
    "plt.xlabel('Componente 1')\n",
    "plt.ylabel('Componente 2')\n",
    "plt.show()\n",
    "\n",
    "# 6. Identificação de outliers com base em distância\n",
    "# Aqui, vamos definir um limiar baseado na distância do centro (0, 0) e identificar outliers\n",
    "distances = np.sqrt(np.sum(X_svd**2, axis=1))\n",
    "outlier_threshold = np.percentile(distances, 95)  # Vamos considerar os 5% mais distantes como outliers\n",
    "\n",
    "# Identificar os índices dos outliers\n",
    "outliers = np.where(distances > outlier_threshold)[0]\n",
    "\n",
    "# 7. Visualizar os outliers\n",
    "plt.scatter(X_svd[:, 0], X_svd[:, 1], label='Pontos normais')\n",
    "plt.scatter(X_svd[outliers, 0], X_svd[outliers, 1], color='red', label='Outliers')\n",
    "plt.title('Identificação de outliers com SVD')\n",
    "plt.xlabel('Componente 1')\n",
    "plt.ylabel('Componente 2')\n",
    "plt.legend()\n",
    "plt.show()\n",
    "\n",
    "print(f\"Outliers identificados nas seguintes linhas: {outliers}\")"
   ]
  }
 ],
 "metadata": {
  "language_info": {
   "name": "python"
  }
 },
 "nbformat": 4,
 "nbformat_minor": 2
}
