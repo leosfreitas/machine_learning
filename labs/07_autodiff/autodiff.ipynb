{
 "cells": [
  {
   "cell_type": "code",
   "execution_count": 11,
   "metadata": {},
   "outputs": [],
   "source": [
    "import numpy as np"
   ]
  },
  {
   "cell_type": "markdown",
   "metadata": {},
   "source": [
    "# Backpropagation (Retropropagação)\n",
    "\n",
    "## O que é Backpropagation?\n",
    "\n",
    "**Backpropagation** (ou retropropagação) é um algoritmo utilizado para treinar redes neurais multicamadas. Ele ajusta os pesos dos neurônios na rede para minimizar o erro entre a saída prevista e o valor esperado. Esse processo é feito aplicando o método de **gradiente descendente** para reduzir a função de custo da rede.\n",
    "\n",
    "## Funcionamento do Backpropagation\n",
    "\n",
    "O processo de backpropagation envolve duas etapas principais:\n",
    "\n",
    "1. **Passagem Direta (Forward Pass)**: \n",
    "   - Os dados de entrada são passados através da rede, camada por camada, até a camada de saída, onde uma previsão é gerada.\n",
    "   \n",
    "2. **Passagem para Trás (Backward Pass)**:\n",
    "   - A rede calcula o erro (diferença entre a previsão e o valor real) e propaga esse erro de volta pela rede para ajustar os pesos, usando o gradiente descendente.\n",
    "\n",
    "## Fórmula do Ajuste dos Pesos\n",
    "\n",
    "Durante o backpropagation, cada peso \\\\( w \\\\) é ajustado para minimizar o erro da rede, de acordo com a fórmula:\n",
    "\n",
    "$$\n",
    "w = w - \\\\alpha \\\\frac{\\\\partial E}{\\\\partial w}\n",
    "$$\n",
    "\n",
    "onde:\n",
    "- \\\\( \\\\alpha \\\\) é a **taxa de aprendizado**, que controla a velocidade do ajuste dos pesos,\n",
    "- \\\\( E \\\\) é o **erro da rede** (função de custo),\n",
    "- \\\\( \\\\frac{\\\\partial E}{\\\\partial w} \\\\) é o **gradiente** do erro em relação ao peso \\\\( w \\\\).\n",
    "\n",
    "## Vantagens e Desafios do Backpropagation\n",
    "\n",
    "- **Vantagens**: \n",
    "  - Permite que redes complexas com muitas camadas (deep learning) aprendam padrões complexos nos dados.\n",
    "  - É um método eficiente e amplamente utilizado para ajustar os pesos das redes neurais.\n",
    "\n",
    "- **Desafios**: \n",
    "  - Treinar redes profundas pode exigir muitos dados e tempo.\n",
    "  - A taxa de aprendizado precisa ser ajustada com cuidado, e há risco de overfitting se o modelo for muito complexo.\n",
    "\n",
    "## Exemplo Intuitivo\n",
    "\n",
    "Imagine uma rede neural com três camadas (entrada, uma camada oculta e saída). Durante o treino, o backpropagation ajusta os pesos entre cada camada para que a saída final se aproxime cada vez mais do valor esperado após várias iterações.\n",
    "\n",
    "---\n",
    "\n",
    "O backpropagation é a base da maioria dos algoritmos de aprendizado profundo e é essencial para o sucesso de redes neurais modernas em tarefas como reconhecimento de imagem, processamento de linguagem natural, entre outros.\n"
   ]
  },
  {
   "cell_type": "markdown",
   "metadata": {},
   "source": [
    "$y = \\sin(\\exp(x^3))$\n",
    "\n",
    "$\\frac{dy}{dx} = \\cos(\\exp(x^3)) \\exp(x^3) 3 x^2$"
   ]
  },
  {
   "cell_type": "code",
   "execution_count": null,
   "metadata": {},
   "outputs": [],
   "source": [
    "class Variable:\n",
    "    def __init__(self, name, initial_value):\n",
    "        self.name = name\n",
    "        self.value = initial_value\n",
    "        self.grad = 0.0\n",
    "\n",
    "    def evaluate(self):\n",
    "        return self.value\n",
    "\n",
    "    def zero_grad(self):\n",
    "        self.grad = 0.0\n",
    "\n",
    "    def backward(self, upstream_grad):\n",
    "        self.grad += upstream_grad\n",
    "\n",
    "    def __str__(self):\n",
    "        return f'{self.name}:{self.value}'\n",
    "\n",
    "class Cube:\n",
    "    def __init__(self, x):\n",
    "        self.x = x\n",
    "\n",
    "    def evaluate(self):\n",
    "        return self.x.evaluate()**3\n",
    "\n",
    "    def backward(self, upstream_grad):\n",
    "        local_grad = 3 * self.x.evaluate()**2\n",
    "        downstream_grad = upstream_grad * local_grad\n",
    "        self.x.backward(downstream_grad)\n",
    "\n",
    "    def __str__(self):\n",
    "        return f'({self.x})^3'\n",
    "\n",
    "class Exp:\n",
    "    def __init__(self, x):\n",
    "        self.x = x\n",
    "\n",
    "    def evaluate(self):\n",
    "        return np.exp(self.x.evaluate())\n",
    "\n",
    "    def backward(self, upstream_grad):\n",
    "        local_grad = np.exp(self.x.evaluate())\n",
    "        downstream_grad = upstream_grad * local_grad\n",
    "        self.x.backward(downstream_grad)\n",
    "\n",
    "    def __str__(self):\n",
    "        return f'exp({self.x})'\n",
    "\n",
    "class Sin:\n",
    "    def __init__(self, x):\n",
    "        self.x = x\n",
    "\n",
    "    def evaluate(self):\n",
    "        return np.sin(self.x.evaluate())\n",
    "\n",
    "    def backward(self, upstream_grad):\n",
    "        local_grad = np.cos(self.x.evaluate())\n",
    "        downstream_grad = upstream_grad * local_grad\n",
    "        self.x.backward(downstream_grad)\n",
    "\n",
    "    def __str__(self):\n",
    "        return f'sin({self.x})'"
   ]
  },
  {
   "cell_type": "code",
   "execution_count": null,
   "metadata": {},
   "outputs": [
    {
     "name": "stdout",
     "output_type": "stream",
     "text": [
      "0.40176297151886475\n",
      "-32757.521776103014\n"
     ]
    }
   ],
   "source": [
    "x = Variable('x', 2)\n",
    "c = Cube(x)\n",
    "e = Exp(c)\n",
    "y = Sin(e)\n",
    "\n",
    "print(y.evaluate())\n",
    "\n",
    "x.zero_grad()\n",
    "y.backward(1.0)\n",
    "\n",
    "print(x.grad)"
   ]
  },
  {
   "cell_type": "code",
   "execution_count": 31,
   "metadata": {},
   "outputs": [
    {
     "ename": "ModuleNotFoundError",
     "evalue": "No module named 'tensorflow'",
     "output_type": "error",
     "traceback": [
      "\u001b[1;31m---------------------------------------------------------------------------\u001b[0m",
      "\u001b[1;31mModuleNotFoundError\u001b[0m                       Traceback (most recent call last)",
      "Cell \u001b[1;32mIn[31], line 1\u001b[0m\n\u001b[1;32m----> 1\u001b[0m \u001b[38;5;28;01mfrom\u001b[39;00m \u001b[38;5;21;01mtensorflow\u001b[39;00m\u001b[38;5;21;01m.\u001b[39;00m\u001b[38;5;21;01mkeras\u001b[39;00m\u001b[38;5;21;01m.\u001b[39;00m\u001b[38;5;21;01mdatasets\u001b[39;00m \u001b[38;5;28;01mimport\u001b[39;00m mnist\n\u001b[0;32m      2\u001b[0m \u001b[38;5;28;01mfrom\u001b[39;00m \u001b[38;5;21;01mtensorflow\u001b[39;00m\u001b[38;5;21;01m.\u001b[39;00m\u001b[38;5;21;01mkeras\u001b[39;00m\u001b[38;5;21;01m.\u001b[39;00m\u001b[38;5;21;01mmodels\u001b[39;00m \u001b[38;5;28;01mimport\u001b[39;00m Sequential\n\u001b[0;32m      3\u001b[0m \u001b[38;5;28;01mfrom\u001b[39;00m \u001b[38;5;21;01mtensorflow\u001b[39;00m\u001b[38;5;21;01m.\u001b[39;00m\u001b[38;5;21;01mkeras\u001b[39;00m\u001b[38;5;21;01m.\u001b[39;00m\u001b[38;5;21;01mlayers\u001b[39;00m \u001b[38;5;28;01mimport\u001b[39;00m Dense, Flatten\n",
      "\u001b[1;31mModuleNotFoundError\u001b[0m: No module named 'tensorflow'"
     ]
    }
   ],
   "source": [
    "from tensorflow.keras.datasets import mnist\n",
    "from tensorflow.keras.models import Sequential\n",
    "from tensorflow.keras.layers import Dense, Flatten\n",
    "from tensorflow.keras.utils import to_categorical\n",
    "\n",
    "# Load the MNIST dataset\n",
    "(x_train, y_train), (x_test, y_test) = mnist.load_data()\n",
    "\n",
    "# Preprocess the data\n",
    "x_train = x_train.reshape((x_train.shape[0], 28 * 28)).astype('float32') / 255\n",
    "x_test = x_test.reshape((x_test.shape[0], 28 * 28)).astype('float32') / 255\n",
    "\n",
    "# One-hot encode the labels\n",
    "y_train = to_categorical(y_train, 10)\n",
    "y_test = to_categorical(y_test, 10)\n",
    "\n",
    "# Create the MLP model\n",
    "model = Sequential()\n",
    "model.add(Flatten(input_shape=(28 * 28,)))\n",
    "model.add(Dense(512, activation='relu'))\n",
    "model.add(Dense(256, activation='relu'))\n",
    "model.add(Dense(128, activation='relu'))\n",
    "model.add(Dense(10, activation='softmax'))\n",
    "\n",
    "# Compile the model\n",
    "model.compile(optimizer='adam', loss='categorical_crossentropy', metrics=['accuracy'])\n",
    "\n",
    "# Train the model\n",
    "model.fit(x_train, y_train, epochs=10, batch_size=128, validation_split=0.2)\n",
    "\n",
    "# Evaluate the model\n",
    "loss, accuracy = model.evaluate(x_test, y_test)\n",
    "print(f'Test accuracy: {accuracy}')"
   ]
  }
 ],
 "metadata": {
  "kernelspec": {
   "display_name": "ml",
   "language": "python",
   "name": "python3"
  },
  "language_info": {
   "codemirror_mode": {
    "name": "ipython",
    "version": 3
   },
   "file_extension": ".py",
   "mimetype": "text/x-python",
   "name": "python",
   "nbconvert_exporter": "python",
   "pygments_lexer": "ipython3",
   "version": "3.12.4"
  }
 },
 "nbformat": 4,
 "nbformat_minor": 2
}
